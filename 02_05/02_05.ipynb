{
  "nbformat": 4,
  "nbformat_minor": 0,
  "metadata": {
    "colab": {
      "provenance": []
    },
    "kernelspec": {
      "name": "python3",
      "display_name": "Python 3"
    },
    "language_info": {
      "name": "python"
    }
  },
  "cells": [
    {
      "cell_type": "code",
      "execution_count": null,
      "metadata": {
        "id": "5Iw7PZdbl3Ek"
      },
      "outputs": [],
      "source": [
        "import numpy as np\n",
        "import pandas as pd\n",
        "from keras.models import Model\n",
        "from keras.layers import Input, Embedding, Flatten, Dot, Dense, Dropout, Concatenate\n",
        "from keras.optimizers import Adam\n",
        "from keras.callbacks import EarlyStopping\n",
        "from keras.metrics import MeanSquaredError\n",
        "from sklearn.model_selection import train_test_split\n",
        "import urllib.request\n",
        "import zipfile\n",
        "import os"
      ]
    },
    {
      "cell_type": "code",
      "source": [
        "url = 'http://files.grouplens.org/datasets/movielens/ml-100k.zip'\n",
        "urllib.request.urlretrieve(url, 'ml-100k.zip')\n",
        "with zipfile.ZipFile('ml-100k.zip', 'r') as zip_ref:\n",
        "    zip_ref.extractall()\n",
        "\n",
        "datos = pd.read_csv('ml-100k/u.data', sep='\\t', names=['usuario_id', 'pelicula_id', 'calificacion', 'timestamp'])"
      ],
      "metadata": {
        "id": "Jn35I7mnmEpz"
      },
      "execution_count": null,
      "outputs": []
    },
    {
      "cell_type": "code",
      "source": [
        "usuarios = datos['usuario_id'].unique()\n",
        "peliculas = datos['pelicula_id'].unique()\n",
        "num_usuarios = len(usuarios) + 1\n",
        "num_peliculas = len(peliculas) + 1\n",
        "\n",
        "df_train, df_test = train_test_split(datos, test_size=0.2, random_state=42)\n",
        "\n",
        "entrada_usuario = Input(shape=(1,))\n",
        "entrada_pelicula = Input(shape=(1,))"
      ],
      "metadata": {
        "id": "puGObU1XmI_D"
      },
      "execution_count": null,
      "outputs": []
    },
    {
      "cell_type": "code",
      "source": [
        "embedding_usuario = Embedding(input_dim=num_usuarios, output_dim=100, embeddings_regularizer='l2')(entrada_usuario)\n",
        "embedding_pelicula = Embedding(input_dim=num_peliculas, output_dim=100, embeddings_regularizer='l2')(entrada_pelicula)\n",
        "\n",
        "usuario_flat = Flatten()(embedding_usuario)\n",
        "usuario_flat = Dropout(0.5)(usuario_flat)\n",
        "pelicula_flat = Flatten()(embedding_pelicula)\n",
        "pelicula_flat = Dropout(0.5)(pelicula_flat)\n",
        "\n",
        "concatenado = Concatenate()([usuario_flat, pelicula_flat])\n",
        "hidden = Dense(128, activation='relu')(concatenado)\n",
        "hidden = Dense(64, activation='relu')(hidden)\n",
        "salida = Dense(1, activation='sigmoid')(hidden)\n",
        "salida = salida * 4 + 1\n",
        "\n",
        "modelo = Model(inputs=[entrada_usuario, entrada_pelicula], outputs=salida)\n",
        "modelo.compile(optimizer=Adam(learning_rate=0.0005), loss='mse', metrics=[MeanSquaredError()])\n",
        "\n",
        "early_stopping = EarlyStopping(monitor='val_loss', patience=3, restore_best_weights=True)\n",
        "\n",
        "modelo.fit(\n",
        "    [df_train['usuario_id'], df_train['pelicula_id']],\n",
        "    df_train['calificacion'],\n",
        "    epochs=50,\n",
        "    batch_size=128,\n",
        "    verbose=1,\n",
        "    validation_split=0.1,\n",
        "    callbacks=[early_stopping]\n",
        ")\n",
        "\n",
        "prediccion1 = modelo.predict([np.array([1]), np.array([50])])\n",
        "prediccion2 = modelo.predict([np.array([10]), np.array([20])])\n",
        "prediccion3 = modelo.predict([np.array([25]), np.array([35])])\n",
        "\n",
        "prediccion1 = np.clip(prediccion1, 1, 5)\n",
        "prediccion2 = np.clip(prediccion2, 1, 5)\n",
        "prediccion3 = np.clip(prediccion3, 1, 5)\n",
        "\n",
        "print(f'Predicción de calificación para Usuario 1 y Película 50: {prediccion1[0][0]:.2f}')\n",
        "print(f'Predicción de calificación para Usuario 10 y Película 20: {prediccion2[0][0]:.2f}')\n",
        "print(f'Predicción de calificación para Usuario 25 y Película 35: {prediccion3[0][0]:.2f}')"
      ],
      "metadata": {
        "colab": {
          "base_uri": "https://localhost:8080/"
        },
        "id": "rSN0ADv3mQG3",
        "outputId": "0e368c84-470d-4a19-9f8f-96b1f1af7bdc"
      },
      "execution_count": null,
      "outputs": [
        {
          "output_type": "stream",
          "name": "stdout",
          "text": [
            "Epoch 1/50\n",
            "\u001b[1m563/563\u001b[0m \u001b[32m━━━━━━━━━━━━━━━━━━━━\u001b[0m\u001b[37m\u001b[0m \u001b[1m8s\u001b[0m 10ms/step - loss: 1.6641 - mean_squared_error: 1.1483 - val_loss: 1.0643 - val_mean_squared_error: 0.9431\n",
            "Epoch 2/50\n",
            "\u001b[1m563/563\u001b[0m \u001b[32m━━━━━━━━━━━━━━━━━━━━\u001b[0m\u001b[37m\u001b[0m \u001b[1m4s\u001b[0m 7ms/step - loss: 1.0417 - mean_squared_error: 0.9197 - val_loss: 1.0319 - val_mean_squared_error: 0.9087\n",
            "Epoch 3/50\n",
            "\u001b[1m563/563\u001b[0m \u001b[32m━━━━━━━━━━━━━━━━━━━━\u001b[0m\u001b[37m\u001b[0m \u001b[1m6s\u001b[0m 8ms/step - loss: 1.0284 - mean_squared_error: 0.9049 - val_loss: 1.0375 - val_mean_squared_error: 0.9151\n",
            "Epoch 4/50\n",
            "\u001b[1m563/563\u001b[0m \u001b[32m━━━━━━━━━━━━━━━━━━━━\u001b[0m\u001b[37m\u001b[0m \u001b[1m5s\u001b[0m 8ms/step - loss: 1.0169 - mean_squared_error: 0.8944 - val_loss: 1.0418 - val_mean_squared_error: 0.9206\n",
            "Epoch 5/50\n",
            "\u001b[1m563/563\u001b[0m \u001b[32m━━━━━━━━━━━━━━━━━━━━\u001b[0m\u001b[37m\u001b[0m \u001b[1m4s\u001b[0m 7ms/step - loss: 1.0130 - mean_squared_error: 0.8903 - val_loss: 1.0284 - val_mean_squared_error: 0.9079\n",
            "Epoch 6/50\n",
            "\u001b[1m563/563\u001b[0m \u001b[32m━━━━━━━━━━━━━━━━━━━━\u001b[0m\u001b[37m\u001b[0m \u001b[1m6s\u001b[0m 8ms/step - loss: 1.0089 - mean_squared_error: 0.8867 - val_loss: 1.0211 - val_mean_squared_error: 0.8996\n",
            "Epoch 7/50\n",
            "\u001b[1m563/563\u001b[0m \u001b[32m━━━━━━━━━━━━━━━━━━━━\u001b[0m\u001b[37m\u001b[0m \u001b[1m5s\u001b[0m 8ms/step - loss: 0.9999 - mean_squared_error: 0.8776 - val_loss: 1.0309 - val_mean_squared_error: 0.9063\n",
            "Epoch 8/50\n",
            "\u001b[1m563/563\u001b[0m \u001b[32m━━━━━━━━━━━━━━━━━━━━\u001b[0m\u001b[37m\u001b[0m \u001b[1m4s\u001b[0m 7ms/step - loss: 1.0114 - mean_squared_error: 0.8861 - val_loss: 1.0207 - val_mean_squared_error: 0.8924\n",
            "Epoch 9/50\n",
            "\u001b[1m563/563\u001b[0m \u001b[32m━━━━━━━━━━━━━━━━━━━━\u001b[0m\u001b[37m\u001b[0m \u001b[1m6s\u001b[0m 9ms/step - loss: 0.9986 - mean_squared_error: 0.8672 - val_loss: 1.0213 - val_mean_squared_error: 0.8851\n",
            "Epoch 10/50\n",
            "\u001b[1m563/563\u001b[0m \u001b[32m━━━━━━━━━━━━━━━━━━━━\u001b[0m\u001b[37m\u001b[0m \u001b[1m4s\u001b[0m 7ms/step - loss: 1.0044 - mean_squared_error: 0.8644 - val_loss: 1.0376 - val_mean_squared_error: 0.8918\n",
            "Epoch 11/50\n",
            "\u001b[1m563/563\u001b[0m \u001b[32m━━━━━━━━━━━━━━━━━━━━\u001b[0m\u001b[37m\u001b[0m \u001b[1m5s\u001b[0m 7ms/step - loss: 1.0013 - mean_squared_error: 0.8531 - val_loss: 1.0335 - val_mean_squared_error: 0.8847\n",
            "\u001b[1m1/1\u001b[0m \u001b[32m━━━━━━━━━━━━━━━━━━━━\u001b[0m\u001b[37m\u001b[0m \u001b[1m0s\u001b[0m 96ms/step\n",
            "\u001b[1m1/1\u001b[0m \u001b[32m━━━━━━━━━━━━━━━━━━━━\u001b[0m\u001b[37m\u001b[0m \u001b[1m0s\u001b[0m 20ms/step\n",
            "\u001b[1m1/1\u001b[0m \u001b[32m━━━━━━━━━━━━━━━━━━━━\u001b[0m\u001b[37m\u001b[0m \u001b[1m0s\u001b[0m 20ms/step\n",
            "Predicción de calificación para Usuario 1 y Película 50: 4.55\n",
            "Predicción de calificación para Usuario 10 y Película 20: 3.83\n",
            "Predicción de calificación para Usuario 25 y Película 35: 2.92\n"
          ]
        }
      ]
    }
  ]
}