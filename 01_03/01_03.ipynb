{
  "nbformat": 4,
  "nbformat_minor": 0,
  "metadata": {
    "colab": {
      "provenance": []
    },
    "kernelspec": {
      "name": "python3",
      "display_name": "Python 3"
    },
    "language_info": {
      "name": "python"
    }
  },
  "cells": [
    {
      "cell_type": "code",
      "execution_count": null,
      "metadata": {
        "id": "VyyNVAOLNuZS"
      },
      "outputs": [],
      "source": [
        "import numpy as np\n",
        "from keras.datasets import mnist\n",
        "from keras.models import Sequential\n",
        "from keras.layers import Dense, Flatten, Conv2D, MaxPooling2D\n",
        "from keras.utils import to_categorical\n",
        "from keras.layers import Input"
      ]
    },
    {
      "cell_type": "code",
      "source": [
        "(datos_entrenamiento, etiquetas_entrenamiento), (datos_prueba, etiquetas_prueba) = mnist.load_data()"
      ],
      "metadata": {
        "id": "6hG5b0FaOBuP"
      },
      "execution_count": null,
      "outputs": []
    },
    {
      "cell_type": "code",
      "source": [
        "datos_entrenamiento = datos_entrenamiento / 255.0\n",
        "datos_prueba = datos_prueba / 255.0\n",
        "etiquetas_entrenamiento = to_categorical(etiquetas_entrenamiento, 10)\n",
        "etiquetas_prueba = to_categorical(etiquetas_prueba, 10)\n",
        "\n",
        "datos_entrenamiento = np.expand_dims(datos_entrenamiento, axis=-1)\n",
        "datos_prueba = np.expand_dims(datos_prueba, axis=-1)"
      ],
      "metadata": {
        "id": "rf7urYgpODh0"
      },
      "execution_count": null,
      "outputs": []
    },
    {
      "cell_type": "code",
      "source": [
        "modelo_cnn = Sequential()\n",
        "modelo_cnn.add(Input(shape=(28, 28, 1)))\n",
        "modelo_cnn.add(Conv2D(32, kernel_size=(3, 3), activation='relu'))\n",
        "modelo_cnn.add(MaxPooling2D(pool_size=(2, 2)))\n",
        "modelo_cnn.add(Conv2D(64, kernel_size=(3, 3), activation='relu'))\n",
        "modelo_cnn.add(MaxPooling2D(pool_size=(2, 2)))\n",
        "modelo_cnn.add(Flatten())\n",
        "modelo_cnn.add(Dense(128, activation='relu'))\n",
        "modelo_cnn.add(Dense(10, activation='softmax'))\n",
        "\n",
        "modelo_cnn.compile(optimizer='adam', loss='categorical_crossentropy', metrics=['accuracy'])\n",
        "\n",
        "modelo_cnn.fit(datos_entrenamiento, etiquetas_entrenamiento, epochs=5, batch_size=32)\n",
        "\n",
        "puntuacion = modelo_cnn.evaluate(datos_prueba, etiquetas_prueba)\n",
        "\n",
        "print(f\"Precisión en los datos de prueba: {puntuacion[1]}\")"
      ],
      "metadata": {
        "colab": {
          "base_uri": "https://localhost:8080/"
        },
        "id": "Li_Cgka6ORHx",
        "outputId": "0229a0ed-f5c0-46a6-eab0-541ba173fb27"
      },
      "execution_count": null,
      "outputs": [
        {
          "output_type": "stream",
          "name": "stdout",
          "text": [
            "Epoch 1/5\n",
            "\u001b[1m1875/1875\u001b[0m \u001b[32m━━━━━━━━━━━━━━━━━━━━\u001b[0m\u001b[37m\u001b[0m \u001b[1m51s\u001b[0m 26ms/step - accuracy: 0.9113 - loss: 0.2859\n",
            "Epoch 2/5\n",
            "\u001b[1m1875/1875\u001b[0m \u001b[32m━━━━━━━━━━━━━━━━━━━━\u001b[0m\u001b[37m\u001b[0m \u001b[1m48s\u001b[0m 26ms/step - accuracy: 0.9865 - loss: 0.0417\n",
            "Epoch 3/5\n",
            "\u001b[1m1875/1875\u001b[0m \u001b[32m━━━━━━━━━━━━━━━━━━━━\u001b[0m\u001b[37m\u001b[0m \u001b[1m83s\u001b[0m 26ms/step - accuracy: 0.9911 - loss: 0.0284\n",
            "Epoch 4/5\n",
            "\u001b[1m1875/1875\u001b[0m \u001b[32m━━━━━━━━━━━━━━━━━━━━\u001b[0m\u001b[37m\u001b[0m \u001b[1m81s\u001b[0m 25ms/step - accuracy: 0.9939 - loss: 0.0184\n",
            "Epoch 5/5\n",
            "\u001b[1m1875/1875\u001b[0m \u001b[32m━━━━━━━━━━━━━━━━━━━━\u001b[0m\u001b[37m\u001b[0m \u001b[1m82s\u001b[0m 26ms/step - accuracy: 0.9951 - loss: 0.0146\n",
            "\u001b[1m313/313\u001b[0m \u001b[32m━━━━━━━━━━━━━━━━━━━━\u001b[0m\u001b[37m\u001b[0m \u001b[1m2s\u001b[0m 7ms/step - accuracy: 0.9884 - loss: 0.0349\n",
            "Precisión en los datos de prueba: 0.9909999966621399\n"
          ]
        }
      ]
    }
  ]
}